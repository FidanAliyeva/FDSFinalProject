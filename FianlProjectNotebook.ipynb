{
 "cells": [
  {
   "cell_type": "code",
   "execution_count": 2,
   "metadata": {},
   "outputs": [],
   "source": [
    "import pandas as pd\n",
    "import numpy as np\n",
    "from matplotlib import pyplot as plt\n",
    "import seaborn as sns\n",
    "from sklearn.datasets import make_blobs, make_classification\n",
    "from sklearn.linear_model import LogisticRegression\n",
    "from sklearn.model_selection import train_test_split, GridSearchCV, cross_val_score, RepeatedStratifiedKFold, StratifiedKFold\n",
    "from sklearn.metrics import accuracy_score, confusion_matrix,roc_curve, roc_auc_score, precision_score, recall_score, precision_recall_curve, f1_score\n",
    "from sklearn.preprocessing import LabelEncoder"
   ]
  },
  {
   "cell_type": "code",
   "execution_count": 3,
   "metadata": {},
   "outputs": [],
   "source": [
    "sns.set(style=\"white\")\n",
    "sns.set(style=\"whitegrid\", color_codes=True)"
   ]
  },
  {
   "cell_type": "code",
   "execution_count": 28,
   "metadata": {},
   "outputs": [],
   "source": [
    "train = pd.read_csv(\"application_train.csv\")\n",
    "test = pd.read_csv(\"application_test.csv\")"
   ]
  },
  {
   "cell_type": "markdown",
   "metadata": {},
   "source": [
    "## Imbalanced class problem"
   ]
  },
  {
   "cell_type": "code",
   "execution_count": 5,
   "metadata": {},
   "outputs": [
    {
     "data": {
      "text/plain": [
       "<matplotlib.axes._subplots.AxesSubplot at 0x19abd2eca20>"
      ]
     },
     "execution_count": 5,
     "metadata": {},
     "output_type": "execute_result"
    },
    {
     "data": {
      "image/png": "[encoded data removed]",
      "text/plain": [
       "<Figure size 432x288 with 1 Axes>"
      ]
     },
     "metadata": {},
     "output_type": "display_data"
    }
   ],
   "source": [
    "train.TARGET.value_counts()\n",
    "sns.countplot(x='TARGET', data= train, palette='hls')"
   ]
  },
  {
   "cell_type": "code",
   "execution_count": 6,
   "metadata": {},
   "outputs": [
    {
     "name": "stdout",
     "output_type": "stream",
     "text": [
      "The loan was repaid in the percentage of  91.93 %\n",
      "The loan was not repaid in the percentage of  8.07 %\n"
     ]
    }
   ],
   "source": [
    "count_loan_repaid = len(train[train['TARGET']==0])\n",
    "count_loan_no_repaid = len(train[train['TARGET']==1])\n",
    "pct_of_loan_repaid = count_loan_repaid/(count_loan_no_repaid+count_loan_repaid)\n",
    "print(\"The loan was repaid in the percentage of \", round(pct_of_loan_repaid*100, 2), '%')\n",
    "pct_of_loan_no_repaid = count_loan_no_repaid/(count_loan_no_repaid+count_loan_repaid)\n",
    "print(\"The loan was not repaid in the percentage of \", round(pct_of_loan_no_repaid*100,2), '%')"
   ]
  },
  {
   "cell_type": "markdown",
   "metadata": {},
   "source": [
    "The plot above shows the we are delaing with an imbalanced class problem, in particular the ratio of repaid-loans to no-repaid-loan is 92:8."
   ]
  },
  {
   "cell_type": "code",
   "execution_count": 7,
   "metadata": {},
   "outputs": [
    {
     "data": {
      "text/html": [
       "<div>\n",
       "<style scoped>\n",
       "    .dataframe tbody tr th:only-of-type {\n",
       "        vertical-align: middle;\n",
       "    }\n",
       "\n",
       "    .dataframe tbody tr th {\n",
       "        vertical-align: top;\n",
       "    }\n",
       "\n",
       "    .dataframe thead th {\n",
       "        text-align: right;\n",
       "    }\n",
       "</style>\n",
       "<table border=\"1\" class=\"dataframe\">\n",
       "  <thead>\n",
       "    <tr style=\"text-align: right;\">\n",
       "      <th></th>\n",
       "      <th>SK_ID_CURR</th>\n",
       "      <th>CNT_CHILDREN</th>\n",
       "      <th>AMT_INCOME_TOTAL</th>\n",
       "      <th>AMT_CREDIT</th>\n",
       "      <th>AMT_ANNUITY</th>\n",
       "      <th>AMT_GOODS_PRICE</th>\n",
       "      <th>REGION_POPULATION_RELATIVE</th>\n",
       "      <th>DAYS_BIRTH</th>\n",
       "      <th>DAYS_EMPLOYED</th>\n",
       "      <th>DAYS_REGISTRATION</th>\n",
       "      <th>...</th>\n",
       "      <th>FLAG_DOCUMENT_18</th>\n",
       "      <th>FLAG_DOCUMENT_19</th>\n",
       "      <th>FLAG_DOCUMENT_20</th>\n",
       "      <th>FLAG_DOCUMENT_21</th>\n",
       "      <th>AMT_REQ_CREDIT_BUREAU_HOUR</th>\n",
       "      <th>AMT_REQ_CREDIT_BUREAU_DAY</th>\n",
       "      <th>AMT_REQ_CREDIT_BUREAU_WEEK</th>\n",
       "      <th>AMT_REQ_CREDIT_BUREAU_MON</th>\n",
       "      <th>AMT_REQ_CREDIT_BUREAU_QRT</th>\n",
       "      <th>AMT_REQ_CREDIT_BUREAU_YEAR</th>\n",
       "    </tr>\n",
       "    <tr>\n",
       "      <th>TARGET</th>\n",
       "      <th></th>\n",
       "      <th></th>\n",
       "      <th></th>\n",
       "      <th></th>\n",
       "      <th></th>\n",
       "      <th></th>\n",
       "      <th></th>\n",
       "      <th></th>\n",
       "      <th></th>\n",
       "      <th></th>\n",
       "      <th></th>\n",
       "      <th></th>\n",
       "      <th></th>\n",
       "      <th></th>\n",
       "      <th></th>\n",
       "      <th></th>\n",
       "      <th></th>\n",
       "      <th></th>\n",
       "      <th></th>\n",
       "      <th></th>\n",
       "      <th></th>\n",
       "    </tr>\n",
       "  </thead>\n",
       "  <tbody>\n",
       "    <tr>\n",
       "      <th>0</th>\n",
       "      <td>278244.744536</td>\n",
       "      <td>0.412946</td>\n",
       "      <td>169077.722266</td>\n",
       "      <td>602648.282002</td>\n",
       "      <td>27163.623349</td>\n",
       "      <td>542736.795003</td>\n",
       "      <td>0.021021</td>\n",
       "      <td>-16138.176397</td>\n",
       "      <td>65696.146123</td>\n",
       "      <td>-5029.941065</td>\n",
       "      <td>...</td>\n",
       "      <td>0.008341</td>\n",
       "      <td>0.000605</td>\n",
       "      <td>0.000506</td>\n",
       "      <td>0.000315</td>\n",
       "      <td>0.006380</td>\n",
       "      <td>0.006914</td>\n",
       "      <td>0.034315</td>\n",
       "      <td>0.270697</td>\n",
       "      <td>0.265939</td>\n",
       "      <td>1.889199</td>\n",
       "    </tr>\n",
       "    <tr>\n",
       "      <th>1</th>\n",
       "      <td>277449.167936</td>\n",
       "      <td>0.463807</td>\n",
       "      <td>165611.760906</td>\n",
       "      <td>557778.527674</td>\n",
       "      <td>26481.744290</td>\n",
       "      <td>488972.412554</td>\n",
       "      <td>0.019131</td>\n",
       "      <td>-14884.828077</td>\n",
       "      <td>42394.675448</td>\n",
       "      <td>-4487.127009</td>\n",
       "      <td>...</td>\n",
       "      <td>0.005720</td>\n",
       "      <td>0.000483</td>\n",
       "      <td>0.000524</td>\n",
       "      <td>0.000564</td>\n",
       "      <td>0.006672</td>\n",
       "      <td>0.008036</td>\n",
       "      <td>0.034919</td>\n",
       "      <td>0.227926</td>\n",
       "      <td>0.259923</td>\n",
       "      <td>2.028783</td>\n",
       "    </tr>\n",
       "  </tbody>\n",
       "</table>\n",
       "<p>2 rows × 105 columns</p>\n",
       "</div>"
      ],
      "text/plain": [
       "           SK_ID_CURR  CNT_CHILDREN  AMT_INCOME_TOTAL     AMT_CREDIT  \\\n",
       "TARGET                                                                 \n",
       "0       278244.744536      0.412946     169077.722266  602648.282002   \n",
       "1       277449.167936      0.463807     165611.760906  557778.527674   \n",
       "\n",
       "         AMT_ANNUITY  AMT_GOODS_PRICE  REGION_POPULATION_RELATIVE  \\\n",
       "TARGET                                                              \n",
       "0       27163.623349    542736.795003                    0.021021   \n",
       "1       26481.744290    488972.412554                    0.019131   \n",
       "\n",
       "          DAYS_BIRTH  DAYS_EMPLOYED  DAYS_REGISTRATION  ...  FLAG_DOCUMENT_18  \\\n",
       "TARGET                                                  ...                     \n",
       "0      -16138.176397   65696.146123       -5029.941065  ...          0.008341   \n",
       "1      -14884.828077   42394.675448       -4487.127009  ...          0.005720   \n",
       "\n",
       "        FLAG_DOCUMENT_19  FLAG_DOCUMENT_20  FLAG_DOCUMENT_21  \\\n",
       "TARGET                                                         \n",
       "0               0.000605          0.000506          0.000315   \n",
       "1               0.000483          0.000524          0.000564   \n",
       "\n",
       "        AMT_REQ_CREDIT_BUREAU_HOUR  AMT_REQ_CREDIT_BUREAU_DAY  \\\n",
       "TARGET                                                          \n",
       "0                         0.006380                   0.006914   \n",
       "1                         0.006672                   0.008036   \n",
       "\n",
       "        AMT_REQ_CREDIT_BUREAU_WEEK  AMT_REQ_CREDIT_BUREAU_MON  \\\n",
       "TARGET                                                          \n",
       "0                         0.034315                   0.270697   \n",
       "1                         0.034919                   0.227926   \n",
       "\n",
       "        AMT_REQ_CREDIT_BUREAU_QRT  AMT_REQ_CREDIT_BUREAU_YEAR  \n",
       "TARGET                                                         \n",
       "0                        0.265939                    1.889199  \n",
       "1                        0.259923                    2.028783  \n",
       "\n",
       "[2 rows x 105 columns]"
      ]
     },
     "execution_count": 7,
     "metadata": {},
     "output_type": "execute_result"
    }
   ],
   "source": [
    "train.groupby('TARGET').mean()"
   ]
  },
  {
   "cell_type": "markdown",
   "metadata": {},
   "source": [
    "## Missing values"
   ]
  },
  {
   "cell_type": "code",
   "execution_count": 8,
   "metadata": {},
   "outputs": [
    {
     "data": {
      "text/plain": [
       "<matplotlib.axes._subplots.AxesSubplot at 0x19abd1f1a58>"
      ]
     },
     "execution_count": 8,
     "metadata": {},
     "output_type": "execute_result"
    },
    {
     "data": {
      "image/png": "[encoded data removed]",
      "text/plain": [
       "<Figure size 1440x1440 with 1 Axes>"
      ]
     },
     "metadata": {},
     "output_type": "display_data"
    }
   ],
   "source": [
    "missing_values = train.isnull()\n",
    "fig, ax = plt.subplots(figsize=(20,20)) \n",
    "sns.heatmap(data = missing_values, yticklabels=False, cbar=False, cmap='viridis', ax=ax)"
   ]
  },
  {
   "cell_type": "code",
   "execution_count": 9,
   "metadata": {},
   "outputs": [],
   "source": [
    "def summary_missing_values(df):\n",
    "    mising_values_sum = df.isnull().sum()\n",
    "    mising_values_percentage = 100 * df.isnull().sum() / len(df)\n",
    "    summary = pd.concat([mising_values_sum, mising_values_percentage], axis=1)\n",
    "    summary.columns = ['Number of missing values','Percentage of missing values']    \n",
    "    return summary.sort_values(by=['Percentage of missing values'], ascending=False)    "
   ]
  },
  {
   "cell_type": "code",
   "execution_count": 10,
   "metadata": {},
   "outputs": [],
   "source": [
    "table_missing_values = summary_missing_values(train)"
   ]
  },
  {
   "cell_type": "code",
   "execution_count": 11,
   "metadata": {},
   "outputs": [
    {
     "data": {
      "text/html": [
       "<div>\n",
       "<style scoped>\n",
       "    .dataframe tbody tr th:only-of-type {\n",
       "        vertical-align: middle;\n",
       "    }\n",
       "\n",
       "    .dataframe tbody tr th {\n",
       "        vertical-align: top;\n",
       "    }\n",
       "\n",
       "    .dataframe thead th {\n",
       "        text-align: right;\n",
       "    }\n",
       "</style>\n",
       "<table border=\"1\" class=\"dataframe\">\n",
       "  <thead>\n",
       "    <tr style=\"text-align: right;\">\n",
       "      <th></th>\n",
       "      <th>Number of missing values</th>\n",
       "      <th>Percentage of missing values</th>\n",
       "    </tr>\n",
       "  </thead>\n",
       "  <tbody>\n",
       "    <tr>\n",
       "      <th>COMMONAREA_MEDI</th>\n",
       "      <td>214865</td>\n",
       "      <td>69.872297</td>\n",
       "    </tr>\n",
       "    <tr>\n",
       "      <th>COMMONAREA_AVG</th>\n",
       "      <td>214865</td>\n",
       "      <td>69.872297</td>\n",
       "    </tr>\n",
       "    <tr>\n",
       "      <th>COMMONAREA_MODE</th>\n",
       "      <td>214865</td>\n",
       "      <td>69.872297</td>\n",
       "    </tr>\n",
       "    <tr>\n",
       "      <th>NONLIVINGAPARTMENTS_MODE</th>\n",
       "      <td>213514</td>\n",
       "      <td>69.432963</td>\n",
       "    </tr>\n",
       "    <tr>\n",
       "      <th>NONLIVINGAPARTMENTS_AVG</th>\n",
       "      <td>213514</td>\n",
       "      <td>69.432963</td>\n",
       "    </tr>\n",
       "    <tr>\n",
       "      <th>NONLIVINGAPARTMENTS_MEDI</th>\n",
       "      <td>213514</td>\n",
       "      <td>69.432963</td>\n",
       "    </tr>\n",
       "    <tr>\n",
       "      <th>FONDKAPREMONT_MODE</th>\n",
       "      <td>210295</td>\n",
       "      <td>68.386172</td>\n",
       "    </tr>\n",
       "    <tr>\n",
       "      <th>LIVINGAPARTMENTS_MODE</th>\n",
       "      <td>210199</td>\n",
       "      <td>68.354953</td>\n",
       "    </tr>\n",
       "    <tr>\n",
       "      <th>LIVINGAPARTMENTS_AVG</th>\n",
       "      <td>210199</td>\n",
       "      <td>68.354953</td>\n",
       "    </tr>\n",
       "    <tr>\n",
       "      <th>LIVINGAPARTMENTS_MEDI</th>\n",
       "      <td>210199</td>\n",
       "      <td>68.354953</td>\n",
       "    </tr>\n",
       "    <tr>\n",
       "      <th>FLOORSMIN_AVG</th>\n",
       "      <td>208642</td>\n",
       "      <td>67.848630</td>\n",
       "    </tr>\n",
       "    <tr>\n",
       "      <th>FLOORSMIN_MODE</th>\n",
       "      <td>208642</td>\n",
       "      <td>67.848630</td>\n",
       "    </tr>\n",
       "    <tr>\n",
       "      <th>FLOORSMIN_MEDI</th>\n",
       "      <td>208642</td>\n",
       "      <td>67.848630</td>\n",
       "    </tr>\n",
       "    <tr>\n",
       "      <th>YEARS_BUILD_MEDI</th>\n",
       "      <td>204488</td>\n",
       "      <td>66.497784</td>\n",
       "    </tr>\n",
       "    <tr>\n",
       "      <th>YEARS_BUILD_MODE</th>\n",
       "      <td>204488</td>\n",
       "      <td>66.497784</td>\n",
       "    </tr>\n",
       "    <tr>\n",
       "      <th>YEARS_BUILD_AVG</th>\n",
       "      <td>204488</td>\n",
       "      <td>66.497784</td>\n",
       "    </tr>\n",
       "    <tr>\n",
       "      <th>OWN_CAR_AGE</th>\n",
       "      <td>202929</td>\n",
       "      <td>65.990810</td>\n",
       "    </tr>\n",
       "    <tr>\n",
       "      <th>LANDAREA_MEDI</th>\n",
       "      <td>182590</td>\n",
       "      <td>59.376738</td>\n",
       "    </tr>\n",
       "    <tr>\n",
       "      <th>LANDAREA_MODE</th>\n",
       "      <td>182590</td>\n",
       "      <td>59.376738</td>\n",
       "    </tr>\n",
       "    <tr>\n",
       "      <th>LANDAREA_AVG</th>\n",
       "      <td>182590</td>\n",
       "      <td>59.376738</td>\n",
       "    </tr>\n",
       "  </tbody>\n",
       "</table>\n",
       "</div>"
      ],
      "text/plain": [
       "                          Number of missing values  \\\n",
       "COMMONAREA_MEDI                             214865   \n",
       "COMMONAREA_AVG                              214865   \n",
       "COMMONAREA_MODE                             214865   \n",
       "NONLIVINGAPARTMENTS_MODE                    213514   \n",
       "NONLIVINGAPARTMENTS_AVG                     213514   \n",
       "NONLIVINGAPARTMENTS_MEDI                    213514   \n",
       "FONDKAPREMONT_MODE                          210295   \n",
       "LIVINGAPARTMENTS_MODE                       210199   \n",
       "LIVINGAPARTMENTS_AVG                        210199   \n",
       "LIVINGAPARTMENTS_MEDI                       210199   \n",
       "FLOORSMIN_AVG                               208642   \n",
       "FLOORSMIN_MODE                              208642   \n",
       "FLOORSMIN_MEDI                              208642   \n",
       "YEARS_BUILD_MEDI                            204488   \n",
       "YEARS_BUILD_MODE                            204488   \n",
       "YEARS_BUILD_AVG                             204488   \n",
       "OWN_CAR_AGE                                 202929   \n",
       "LANDAREA_MEDI                               182590   \n",
       "LANDAREA_MODE                               182590   \n",
       "LANDAREA_AVG                                182590   \n",
       "\n",
       "                          Percentage of missing values  \n",
       "COMMONAREA_MEDI                              69.872297  \n",
       "COMMONAREA_AVG                               69.872297  \n",
       "COMMONAREA_MODE                              69.872297  \n",
       "NONLIVINGAPARTMENTS_MODE                     69.432963  \n",
       "NONLIVINGAPARTMENTS_AVG                      69.432963  \n",
       "NONLIVINGAPARTMENTS_MEDI                     69.432963  \n",
       "FONDKAPREMONT_MODE                           68.386172  \n",
       "LIVINGAPARTMENTS_MODE                        68.354953  \n",
       "LIVINGAPARTMENTS_AVG                         68.354953  \n",
       "LIVINGAPARTMENTS_MEDI                        68.354953  \n",
       "FLOORSMIN_AVG                                67.848630  \n",
       "FLOORSMIN_MODE                               67.848630  \n",
       "FLOORSMIN_MEDI                               67.848630  \n",
       "YEARS_BUILD_MEDI                             66.497784  \n",
       "YEARS_BUILD_MODE                             66.497784  \n",
       "YEARS_BUILD_AVG                              66.497784  \n",
       "OWN_CAR_AGE                                  65.990810  \n",
       "LANDAREA_MEDI                                59.376738  \n",
       "LANDAREA_MODE                                59.376738  \n",
       "LANDAREA_AVG                                 59.376738  "
      ]
     },
     "execution_count": 11,
     "metadata": {},
     "output_type": "execute_result"
    }
   ],
   "source": [
    "table_missing_values.head(20)"
   ]
  },
  {
   "cell_type": "markdown",
   "metadata": {},
   "source": [
    "Before building our model, we either have to fill all the missing values or drop the columns with a high percentage of missing values."
   ]
  },
  {
   "cell_type": "markdown",
   "metadata": {},
   "source": [
    "## Feature selection"
   ]
  },
  {
   "cell_type": "code",
   "execution_count": 29,
   "metadata": {},
   "outputs": [],
   "source": [
    "correlations = train.corr()['TARGET'].sort_values()\n",
    "pos_corr = correlations[correlations.values >= 0].sort_values(ascending=False)\n",
    "neg_corr = correlations[correlations.values < 0]"
   ]
  },
  {
   "cell_type": "code",
   "execution_count": 30,
   "metadata": {},
   "outputs": [],
   "source": [
    "most_neg_features = list(neg_corr.head(10).index)\n",
    "most_pos_features = list(pos_corr.head(10).index)"
   ]
  },
  {
   "cell_type": "code",
   "execution_count": 32,
   "metadata": {},
   "outputs": [
    {
     "data": {
      "text/plain": [
       "122"
      ]
     },
     "execution_count": 32,
     "metadata": {},
     "output_type": "execute_result"
    }
   ],
   "source": [
    "len(table_missing_values)"
   ]
  },
  {
   "cell_type": "code",
   "execution_count": 33,
   "metadata": {},
   "outputs": [
    {
     "data": {
      "text/html": [
       "<div>\n",
       "<style scoped>\n",
       "    .dataframe tbody tr th:only-of-type {\n",
       "        vertical-align: middle;\n",
       "    }\n",
       "\n",
       "    .dataframe tbody tr th {\n",
       "        vertical-align: top;\n",
       "    }\n",
       "\n",
       "    .dataframe thead th {\n",
       "        text-align: right;\n",
       "    }\n",
       "</style>\n",
       "<table border=\"1\" class=\"dataframe\">\n",
       "  <thead>\n",
       "    <tr style=\"text-align: right;\">\n",
       "      <th></th>\n",
       "      <th>Number of missing values</th>\n",
       "      <th>Percentage of missing values</th>\n",
       "      <th>TARGET</th>\n",
       "    </tr>\n",
       "  </thead>\n",
       "  <tbody>\n",
       "    <tr>\n",
       "      <th>TARGET</th>\n",
       "      <td>0</td>\n",
       "      <td>0.000000</td>\n",
       "      <td>1.000000</td>\n",
       "    </tr>\n",
       "    <tr>\n",
       "      <th>DAYS_BIRTH</th>\n",
       "      <td>0</td>\n",
       "      <td>0.000000</td>\n",
       "      <td>0.078239</td>\n",
       "    </tr>\n",
       "    <tr>\n",
       "      <th>REGION_RATING_CLIENT_W_CITY</th>\n",
       "      <td>0</td>\n",
       "      <td>0.000000</td>\n",
       "      <td>0.060893</td>\n",
       "    </tr>\n",
       "    <tr>\n",
       "      <th>REGION_RATING_CLIENT</th>\n",
       "      <td>0</td>\n",
       "      <td>0.000000</td>\n",
       "      <td>0.058899</td>\n",
       "    </tr>\n",
       "    <tr>\n",
       "      <th>DAYS_LAST_PHONE_CHANGE</th>\n",
       "      <td>1</td>\n",
       "      <td>0.000325</td>\n",
       "      <td>0.055218</td>\n",
       "    </tr>\n",
       "    <tr>\n",
       "      <th>DAYS_ID_PUBLISH</th>\n",
       "      <td>0</td>\n",
       "      <td>0.000000</td>\n",
       "      <td>0.051457</td>\n",
       "    </tr>\n",
       "    <tr>\n",
       "      <th>REG_CITY_NOT_WORK_CITY</th>\n",
       "      <td>0</td>\n",
       "      <td>0.000000</td>\n",
       "      <td>0.050994</td>\n",
       "    </tr>\n",
       "    <tr>\n",
       "      <th>FLAG_EMP_PHONE</th>\n",
       "      <td>0</td>\n",
       "      <td>0.000000</td>\n",
       "      <td>0.045982</td>\n",
       "    </tr>\n",
       "    <tr>\n",
       "      <th>REG_CITY_NOT_LIVE_CITY</th>\n",
       "      <td>0</td>\n",
       "      <td>0.000000</td>\n",
       "      <td>0.044395</td>\n",
       "    </tr>\n",
       "    <tr>\n",
       "      <th>FLAG_DOCUMENT_3</th>\n",
       "      <td>0</td>\n",
       "      <td>0.000000</td>\n",
       "      <td>0.044346</td>\n",
       "    </tr>\n",
       "  </tbody>\n",
       "</table>\n",
       "</div>"
      ],
      "text/plain": [
       "                             Number of missing values  \\\n",
       "TARGET                                              0   \n",
       "DAYS_BIRTH                                          0   \n",
       "REGION_RATING_CLIENT_W_CITY                         0   \n",
       "REGION_RATING_CLIENT                                0   \n",
       "DAYS_LAST_PHONE_CHANGE                              1   \n",
       "DAYS_ID_PUBLISH                                     0   \n",
       "REG_CITY_NOT_WORK_CITY                              0   \n",
       "FLAG_EMP_PHONE                                      0   \n",
       "REG_CITY_NOT_LIVE_CITY                              0   \n",
       "FLAG_DOCUMENT_3                                     0   \n",
       "\n",
       "                             Percentage of missing values    TARGET  \n",
       "TARGET                                           0.000000  1.000000  \n",
       "DAYS_BIRTH                                       0.000000  0.078239  \n",
       "REGION_RATING_CLIENT_W_CITY                      0.000000  0.060893  \n",
       "REGION_RATING_CLIENT                             0.000000  0.058899  \n",
       "DAYS_LAST_PHONE_CHANGE                           0.000325  0.055218  \n",
       "DAYS_ID_PUBLISH                                  0.000000  0.051457  \n",
       "REG_CITY_NOT_WORK_CITY                           0.000000  0.050994  \n",
       "FLAG_EMP_PHONE                                   0.000000  0.045982  \n",
       "REG_CITY_NOT_LIVE_CITY                           0.000000  0.044395  \n",
       "FLAG_DOCUMENT_3                                  0.000000  0.044346  "
      ]
     },
     "execution_count": 33,
     "metadata": {},
     "output_type": "execute_result"
    }
   ],
   "source": [
    "table_missingValues_corr = pd.concat([table_missing_values, correlations], axis=1, sort=False).sort_values(by=['Percentage of missing values'], ascending=False)\n",
    "table_missingValues_corr[table_missingValues_corr['Percentage of missing values']> 50]\n",
    "table_missingValues_corr[table_missingValues_corr.index.isin(most_pos_features)].sort_values(by=['TARGET'], ascending=False)"
   ]
  },
  {
   "cell_type": "code",
   "execution_count": 53,
   "metadata": {},
   "outputs": [],
   "source": [
    "# Create a list with just the features we want to keep to build our model\n",
    "# First, we select the first 3 with highest positive correlation, which also have no missing values. Note that the correlation is anyway very week..\n",
    "selected_features = ['TARGET','DAYS_BIRTH', 'REGION_RATING_CLIENT_W_CITY', 'REGION_RATING_CLIENT']"
   ]
  },
  {
   "cell_type": "code",
   "execution_count": 35,
   "metadata": {},
   "outputs": [
    {
     "data": {
      "text/html": [
       "<div>\n",
       "<style scoped>\n",
       "    .dataframe tbody tr th:only-of-type {\n",
       "        vertical-align: middle;\n",
       "    }\n",
       "\n",
       "    .dataframe tbody tr th {\n",
       "        vertical-align: top;\n",
       "    }\n",
       "\n",
       "    .dataframe thead th {\n",
       "        text-align: right;\n",
       "    }\n",
       "</style>\n",
       "<table border=\"1\" class=\"dataframe\">\n",
       "  <thead>\n",
       "    <tr style=\"text-align: right;\">\n",
       "      <th></th>\n",
       "      <th>Number of missing values</th>\n",
       "      <th>Percentage of missing values</th>\n",
       "      <th>TARGET</th>\n",
       "    </tr>\n",
       "  </thead>\n",
       "  <tbody>\n",
       "    <tr>\n",
       "      <th>EXT_SOURCE_3</th>\n",
       "      <td>60965</td>\n",
       "      <td>19.825307</td>\n",
       "      <td>-0.178919</td>\n",
       "    </tr>\n",
       "    <tr>\n",
       "      <th>EXT_SOURCE_2</th>\n",
       "      <td>660</td>\n",
       "      <td>0.214626</td>\n",
       "      <td>-0.160472</td>\n",
       "    </tr>\n",
       "    <tr>\n",
       "      <th>EXT_SOURCE_1</th>\n",
       "      <td>173378</td>\n",
       "      <td>56.381073</td>\n",
       "      <td>-0.155317</td>\n",
       "    </tr>\n",
       "    <tr>\n",
       "      <th>DAYS_EMPLOYED</th>\n",
       "      <td>0</td>\n",
       "      <td>0.000000</td>\n",
       "      <td>-0.044932</td>\n",
       "    </tr>\n",
       "    <tr>\n",
       "      <th>FLOORSMAX_AVG</th>\n",
       "      <td>153020</td>\n",
       "      <td>49.760822</td>\n",
       "      <td>-0.044003</td>\n",
       "    </tr>\n",
       "    <tr>\n",
       "      <th>FLOORSMAX_MEDI</th>\n",
       "      <td>153020</td>\n",
       "      <td>49.760822</td>\n",
       "      <td>-0.043768</td>\n",
       "    </tr>\n",
       "    <tr>\n",
       "      <th>FLOORSMAX_MODE</th>\n",
       "      <td>153020</td>\n",
       "      <td>49.760822</td>\n",
       "      <td>-0.043226</td>\n",
       "    </tr>\n",
       "    <tr>\n",
       "      <th>AMT_GOODS_PRICE</th>\n",
       "      <td>278</td>\n",
       "      <td>0.090403</td>\n",
       "      <td>-0.039645</td>\n",
       "    </tr>\n",
       "    <tr>\n",
       "      <th>REGION_POPULATION_RELATIVE</th>\n",
       "      <td>0</td>\n",
       "      <td>0.000000</td>\n",
       "      <td>-0.037227</td>\n",
       "    </tr>\n",
       "    <tr>\n",
       "      <th>ELEVATORS_AVG</th>\n",
       "      <td>163891</td>\n",
       "      <td>53.295980</td>\n",
       "      <td>-0.034199</td>\n",
       "    </tr>\n",
       "  </tbody>\n",
       "</table>\n",
       "</div>"
      ],
      "text/plain": [
       "                            Number of missing values  \\\n",
       "EXT_SOURCE_3                                   60965   \n",
       "EXT_SOURCE_2                                     660   \n",
       "EXT_SOURCE_1                                  173378   \n",
       "DAYS_EMPLOYED                                      0   \n",
       "FLOORSMAX_AVG                                 153020   \n",
       "FLOORSMAX_MEDI                                153020   \n",
       "FLOORSMAX_MODE                                153020   \n",
       "AMT_GOODS_PRICE                                  278   \n",
       "REGION_POPULATION_RELATIVE                         0   \n",
       "ELEVATORS_AVG                                 163891   \n",
       "\n",
       "                            Percentage of missing values    TARGET  \n",
       "EXT_SOURCE_3                                   19.825307 -0.178919  \n",
       "EXT_SOURCE_2                                    0.214626 -0.160472  \n",
       "EXT_SOURCE_1                                   56.381073 -0.155317  \n",
       "DAYS_EMPLOYED                                   0.000000 -0.044932  \n",
       "FLOORSMAX_AVG                                  49.760822 -0.044003  \n",
       "FLOORSMAX_MEDI                                 49.760822 -0.043768  \n",
       "FLOORSMAX_MODE                                 49.760822 -0.043226  \n",
       "AMT_GOODS_PRICE                                 0.090403 -0.039645  \n",
       "REGION_POPULATION_RELATIVE                      0.000000 -0.037227  \n",
       "ELEVATORS_AVG                                  53.295980 -0.034199  "
      ]
     },
     "execution_count": 35,
     "metadata": {},
     "output_type": "execute_result"
    }
   ],
   "source": [
    "table_missingValues_corr[table_missingValues_corr.index.isin(most_neg_features)].sort_values(by=['TARGET'])"
   ]
  },
  {
   "cell_type": "code",
   "execution_count": 54,
   "metadata": {},
   "outputs": [],
   "source": [
    "selected_features += ['EXT_SOURCE_1', 'EXT_SOURCE_2', 'EXT_SOURCE_3', 'DAYS_EMPLOYED']"
   ]
  },
  {
   "cell_type": "markdown",
   "metadata": {},
   "source": [
    "We need to fill all the missing values before continuing"
   ]
  },
  {
   "cell_type": "code",
   "execution_count": 37,
   "metadata": {},
   "outputs": [],
   "source": [
    "medianEX1 = train['EXT_SOURCE_1'].median()\n",
    "train['EXT_SOURCE_1'].fillna(medianEX1, inplace=True)\n",
    "medianEX2 = train['EXT_SOURCE_2'].median()\n",
    "train['EXT_SOURCE_2'].fillna(medianEX2, inplace=True)\n",
    "medianEX3 = train['EXT_SOURCE_3'].median()\n",
    "train['EXT_SOURCE_3'].fillna(medianEX3, inplace=True)"
   ]
  },
  {
   "cell_type": "code",
   "execution_count": 55,
   "metadata": {},
   "outputs": [],
   "source": [
    "reduced_train = train[selected_features]"
   ]
  },
  {
   "cell_type": "markdown",
   "metadata": {},
   "source": [
    "## Categorical columns"
   ]
  },
  {
   "cell_type": "code",
   "execution_count": 39,
   "metadata": {},
   "outputs": [
    {
     "data": {
      "text/plain": [
       "float64    65\n",
       "int64      41\n",
       "object     16\n",
       "dtype: int64"
      ]
     },
     "execution_count": 39,
     "metadata": {},
     "output_type": "execute_result"
    }
   ],
   "source": [
    "train.dtypes.value_counts()"
   ]
  },
  {
   "cell_type": "markdown",
   "metadata": {},
   "source": [
    "We have to encode all the categorical variables, i.e. columns of 'object' type. We use the Label Encoder method for those having only 2 unique categories, One-Hot encoding for the rest:"
   ]
  },
  {
   "cell_type": "code",
   "execution_count": 41,
   "metadata": {},
   "outputs": [],
   "source": [
    "# Label Encoder\n",
    "le = LabelEncoder()\n",
    "for column in train:\n",
    "    if train[column].dtype == 'object' and len(list(train[column].unique())) <= 2:\n",
    "        le.fit(train[column])\n",
    "        train[column] = le.transform(train[column])\n",
    "        test[column] = le.transform(test[column])"
   ]
  },
  {
   "cell_type": "code",
   "execution_count": 42,
   "metadata": {},
   "outputs": [],
   "source": [
    "# One-hot encoding\n",
    "categorical_variable_list = list(train.select_dtypes(include=['object']).columns)\n",
    "for column in categorical_variable_list:\n",
    "    encoded_column = pd.get_dummies(train[column], drop_first=True)\n",
    "    train = pd.concat([train, encoded_column], axis=1)\n",
    "    test = pd.concat([test, encoded_column], axis=1)"
   ]
  },
  {
   "cell_type": "code",
   "execution_count": 43,
   "metadata": {},
   "outputs": [
    {
     "data": {
      "text/plain": [
       "uint8      121\n",
       "float64     65\n",
       "int64       41\n",
       "object      13\n",
       "int32        3\n",
       "dtype: int64"
      ]
     },
     "execution_count": 43,
     "metadata": {},
     "output_type": "execute_result"
    }
   ],
   "source": [
    "train.dtypes.value_counts()"
   ]
  },
  {
   "cell_type": "markdown",
   "metadata": {},
   "source": [
    "## SMOTE algorithm"
   ]
  },
  {
   "cell_type": "code",
   "execution_count": 56,
   "metadata": {},
   "outputs": [],
   "source": [
    "X = np.array(reduced_train.iloc[:, reduced_train.columns != 'TARGET'])\n",
    "y = np.array(reduced_train.iloc[:, reduced_train.columns == 'TARGET'])"
   ]
  },
  {
   "cell_type": "code",
   "execution_count": 59,
   "metadata": {},
   "outputs": [
    {
     "name": "stdout",
     "output_type": "stream",
     "text": [
      "(307511, 7) \n",
      " (307511, 1)\n"
     ]
    }
   ],
   "source": [
    "print(X.shape, '\\n', y.shape)"
   ]
  },
  {
   "cell_type": "code",
   "execution_count": 72,
   "metadata": {},
   "outputs": [
    {
     "name": "stdout",
     "output_type": "stream",
     "text": [
      "After OverSampling, the shape of train_X: (565372, 7)\n",
      "After OverSampling, the shape of train_y: (565372, 1) \n",
      "\n",
      "After OverSampling, counts of label '1': 282686\n",
      "After OverSampling, counts of label '0': 282686\n"
     ]
    }
   ],
   "source": [
    "X = reduced_train\n",
    "y = train.loc[:, train.columns == 'TARGET']\n",
    "from imblearn.over_sampling import SMOTE\n",
    "os = SMOTE(random_state=0)\n",
    "os_data_X, os_data_y=os.fit_sample(X, y)\n",
    "os_data_X = pd.DataFrame(data=os_data_X,columns=columns )\n",
    "os_data_y= pd.DataFrame(data=os_data_y,columns=['TARGET'])\n",
    "# we can Check the numbers of our data\n",
    "print('After OverSampling, the shape of train_X: {}'.format(os_data_X.shape))\n",
    "print('After OverSampling, the shape of train_y: {} \\n'.format(os_data_y.shape))\n",
    "\n",
    "print(\"After OverSampling, counts of label '1': {}\".format(os_data_y['TARGET'].value_counts()[1]))\n",
    "print(\"After OverSampling, counts of label '0': {}\".format(os_data_y['TARGET'].value_counts()[0]))"
   ]
  },
  {
   "cell_type": "code",
   "execution_count": 68,
   "metadata": {},
   "outputs": [
    {
     "data": {
      "text/plain": [
       "<matplotlib.axes._subplots.AxesSubplot at 0x19a843cb0f0>"
      ]
     },
     "execution_count": 68,
     "metadata": {},
     "output_type": "execute_result"
    },
    {
     "data": {
      "image/png": "[encoded data removed]",
      "text/plain": [
       "<Figure size 432x288 with 1 Axes>"
      ]
     },
     "metadata": {},
     "output_type": "display_data"
    }
   ],
   "source": [
    "os_data_y.TARGET.value_counts()\n",
    "sns.countplot(x='TARGET', data= os_data_y, palette='hls')"
   ]
  },
  {
   "cell_type": "markdown",
   "metadata": {},
   "source": [
    "Now our data is balanced!"
   ]
  }
 ],
 "metadata": {
  "kernelspec": {
   "display_name": "Python 3",
   "language": "python",
   "name": "python3"
  },
  "language_info": {
   "codemirror_mode": {
    "name": "ipython",
    "version": 3
   },
   "file_extension": ".py",
   "mimetype": "text/x-python",
   "name": "python",
   "nbconvert_exporter": "python",
   "pygments_lexer": "ipython3",
   "version": "3.7.3"
  }
 },
 "nbformat": 4,
 "nbformat_minor": 2
}
